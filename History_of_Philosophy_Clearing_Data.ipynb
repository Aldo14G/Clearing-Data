{
  "nbformat": 4,
  "nbformat_minor": 0,
  "metadata": {
    "colab": {
      "provenance": []
    },
    "kernelspec": {
      "name": "python3",
      "display_name": "Python 3"
    },
    "language_info": {
      "name": "python"
    }
  },
  "cells": [
    {
      "cell_type": "markdown",
      "source": [
        "## Instala el paquete kaggle"
      ],
      "metadata": {
        "id": "A2BGAhWFR5Zt"
      }
    },
    {
      "cell_type": "code",
      "execution_count": 1,
      "metadata": {
        "id": "QY7vFyIIJLWW"
      },
      "outputs": [],
      "source": [
        "!pip install kaggle --quiet"
      ]
    },
    {
      "cell_type": "markdown",
      "source": [
        "## Sube tu archivo de credenciales kaggle.json"
      ],
      "metadata": {
        "id": "2ZK8A89YR_O1"
      }
    },
    {
      "cell_type": "code",
      "source": [
        "from google.colab import files\n",
        "files.upload()  # Selecciona tu kaggle.json cuando aparezca el diálogo"
      ],
      "metadata": {
        "colab": {
          "base_uri": "https://localhost:8080/",
          "height": 90
        },
        "id": "glerDpHMM27R",
        "outputId": "2b27f727-6019-466b-84d0-acdad68387fa"
      },
      "execution_count": 2,
      "outputs": [
        {
          "output_type": "display_data",
          "data": {
            "text/plain": [
              "<IPython.core.display.HTML object>"
            ],
            "text/html": [
              "\n",
              "     <input type=\"file\" id=\"files-1b858660-d94a-424a-877a-2fe76e26afbe\" name=\"files[]\" multiple disabled\n",
              "        style=\"border:none\" />\n",
              "     <output id=\"result-1b858660-d94a-424a-877a-2fe76e26afbe\">\n",
              "      Upload widget is only available when the cell has been executed in the\n",
              "      current browser session. Please rerun this cell to enable.\n",
              "      </output>\n",
              "      <script>// Copyright 2017 Google LLC\n",
              "//\n",
              "// Licensed under the Apache License, Version 2.0 (the \"License\");\n",
              "// you may not use this file except in compliance with the License.\n",
              "// You may obtain a copy of the License at\n",
              "//\n",
              "//      http://www.apache.org/licenses/LICENSE-2.0\n",
              "//\n",
              "// Unless required by applicable law or agreed to in writing, software\n",
              "// distributed under the License is distributed on an \"AS IS\" BASIS,\n",
              "// WITHOUT WARRANTIES OR CONDITIONS OF ANY KIND, either express or implied.\n",
              "// See the License for the specific language governing permissions and\n",
              "// limitations under the License.\n",
              "\n",
              "/**\n",
              " * @fileoverview Helpers for google.colab Python module.\n",
              " */\n",
              "(function(scope) {\n",
              "function span(text, styleAttributes = {}) {\n",
              "  const element = document.createElement('span');\n",
              "  element.textContent = text;\n",
              "  for (const key of Object.keys(styleAttributes)) {\n",
              "    element.style[key] = styleAttributes[key];\n",
              "  }\n",
              "  return element;\n",
              "}\n",
              "\n",
              "// Max number of bytes which will be uploaded at a time.\n",
              "const MAX_PAYLOAD_SIZE = 100 * 1024;\n",
              "\n",
              "function _uploadFiles(inputId, outputId) {\n",
              "  const steps = uploadFilesStep(inputId, outputId);\n",
              "  const outputElement = document.getElementById(outputId);\n",
              "  // Cache steps on the outputElement to make it available for the next call\n",
              "  // to uploadFilesContinue from Python.\n",
              "  outputElement.steps = steps;\n",
              "\n",
              "  return _uploadFilesContinue(outputId);\n",
              "}\n",
              "\n",
              "// This is roughly an async generator (not supported in the browser yet),\n",
              "// where there are multiple asynchronous steps and the Python side is going\n",
              "// to poll for completion of each step.\n",
              "// This uses a Promise to block the python side on completion of each step,\n",
              "// then passes the result of the previous step as the input to the next step.\n",
              "function _uploadFilesContinue(outputId) {\n",
              "  const outputElement = document.getElementById(outputId);\n",
              "  const steps = outputElement.steps;\n",
              "\n",
              "  const next = steps.next(outputElement.lastPromiseValue);\n",
              "  return Promise.resolve(next.value.promise).then((value) => {\n",
              "    // Cache the last promise value to make it available to the next\n",
              "    // step of the generator.\n",
              "    outputElement.lastPromiseValue = value;\n",
              "    return next.value.response;\n",
              "  });\n",
              "}\n",
              "\n",
              "/**\n",
              " * Generator function which is called between each async step of the upload\n",
              " * process.\n",
              " * @param {string} inputId Element ID of the input file picker element.\n",
              " * @param {string} outputId Element ID of the output display.\n",
              " * @return {!Iterable<!Object>} Iterable of next steps.\n",
              " */\n",
              "function* uploadFilesStep(inputId, outputId) {\n",
              "  const inputElement = document.getElementById(inputId);\n",
              "  inputElement.disabled = false;\n",
              "\n",
              "  const outputElement = document.getElementById(outputId);\n",
              "  outputElement.innerHTML = '';\n",
              "\n",
              "  const pickedPromise = new Promise((resolve) => {\n",
              "    inputElement.addEventListener('change', (e) => {\n",
              "      resolve(e.target.files);\n",
              "    });\n",
              "  });\n",
              "\n",
              "  const cancel = document.createElement('button');\n",
              "  inputElement.parentElement.appendChild(cancel);\n",
              "  cancel.textContent = 'Cancel upload';\n",
              "  const cancelPromise = new Promise((resolve) => {\n",
              "    cancel.onclick = () => {\n",
              "      resolve(null);\n",
              "    };\n",
              "  });\n",
              "\n",
              "  // Wait for the user to pick the files.\n",
              "  const files = yield {\n",
              "    promise: Promise.race([pickedPromise, cancelPromise]),\n",
              "    response: {\n",
              "      action: 'starting',\n",
              "    }\n",
              "  };\n",
              "\n",
              "  cancel.remove();\n",
              "\n",
              "  // Disable the input element since further picks are not allowed.\n",
              "  inputElement.disabled = true;\n",
              "\n",
              "  if (!files) {\n",
              "    return {\n",
              "      response: {\n",
              "        action: 'complete',\n",
              "      }\n",
              "    };\n",
              "  }\n",
              "\n",
              "  for (const file of files) {\n",
              "    const li = document.createElement('li');\n",
              "    li.append(span(file.name, {fontWeight: 'bold'}));\n",
              "    li.append(span(\n",
              "        `(${file.type || 'n/a'}) - ${file.size} bytes, ` +\n",
              "        `last modified: ${\n",
              "            file.lastModifiedDate ? file.lastModifiedDate.toLocaleDateString() :\n",
              "                                    'n/a'} - `));\n",
              "    const percent = span('0% done');\n",
              "    li.appendChild(percent);\n",
              "\n",
              "    outputElement.appendChild(li);\n",
              "\n",
              "    const fileDataPromise = new Promise((resolve) => {\n",
              "      const reader = new FileReader();\n",
              "      reader.onload = (e) => {\n",
              "        resolve(e.target.result);\n",
              "      };\n",
              "      reader.readAsArrayBuffer(file);\n",
              "    });\n",
              "    // Wait for the data to be ready.\n",
              "    let fileData = yield {\n",
              "      promise: fileDataPromise,\n",
              "      response: {\n",
              "        action: 'continue',\n",
              "      }\n",
              "    };\n",
              "\n",
              "    // Use a chunked sending to avoid message size limits. See b/62115660.\n",
              "    let position = 0;\n",
              "    do {\n",
              "      const length = Math.min(fileData.byteLength - position, MAX_PAYLOAD_SIZE);\n",
              "      const chunk = new Uint8Array(fileData, position, length);\n",
              "      position += length;\n",
              "\n",
              "      const base64 = btoa(String.fromCharCode.apply(null, chunk));\n",
              "      yield {\n",
              "        response: {\n",
              "          action: 'append',\n",
              "          file: file.name,\n",
              "          data: base64,\n",
              "        },\n",
              "      };\n",
              "\n",
              "      let percentDone = fileData.byteLength === 0 ?\n",
              "          100 :\n",
              "          Math.round((position / fileData.byteLength) * 100);\n",
              "      percent.textContent = `${percentDone}% done`;\n",
              "\n",
              "    } while (position < fileData.byteLength);\n",
              "  }\n",
              "\n",
              "  // All done.\n",
              "  yield {\n",
              "    response: {\n",
              "      action: 'complete',\n",
              "    }\n",
              "  };\n",
              "}\n",
              "\n",
              "scope.google = scope.google || {};\n",
              "scope.google.colab = scope.google.colab || {};\n",
              "scope.google.colab._files = {\n",
              "  _uploadFiles,\n",
              "  _uploadFilesContinue,\n",
              "};\n",
              "})(self);\n",
              "</script> "
            ]
          },
          "metadata": {}
        },
        {
          "output_type": "stream",
          "name": "stdout",
          "text": [
            "Saving kaggle.json to kaggle.json\n"
          ]
        },
        {
          "output_type": "execute_result",
          "data": {
            "text/plain": [
              "{'kaggle.json': b'{\"username\":\"aldog14\",\"key\":\"7d7ec6a4c0548380b064d2b5e58d872d\"}'}"
            ]
          },
          "metadata": {},
          "execution_count": 2
        }
      ]
    },
    {
      "cell_type": "markdown",
      "source": [
        "## Configura la variable de entorno para la API de Kaggle"
      ],
      "metadata": {
        "id": "bakLBUqdSJZu"
      }
    },
    {
      "cell_type": "code",
      "source": [
        "import os\n",
        "os.environ['KAGGLE_CONFIG_DIR'] = '/content'  # Coloca el kaggle.json en /content"
      ],
      "metadata": {
        "id": "LI7Hs7p_Ndz8"
      },
      "execution_count": 3,
      "outputs": []
    },
    {
      "cell_type": "markdown",
      "source": [
        "## Descarga el ZIP del dataset"
      ],
      "metadata": {
        "id": "CGW0cHE2SN1Y"
      }
    },
    {
      "cell_type": "code",
      "source": [
        "!kaggle datasets download -d kouroshalizadeh/history-of-philosophy\n",
        "\n",
        "# Descomprime todo en la carpeta `data/`\n",
        "!unzip history-of-philosophy.zip -d data/"
      ],
      "metadata": {
        "colab": {
          "base_uri": "https://localhost:8080/"
        },
        "id": "FnfAkg6jNl_h",
        "outputId": "3e9f6fde-ab3e-4eb7-b569-5a00e8e86a85"
      },
      "execution_count": 4,
      "outputs": [
        {
          "output_type": "stream",
          "name": "stdout",
          "text": [
            "Warning: Your Kaggle API key is readable by other users on this system! To fix this, you can run 'chmod 600 /content/kaggle.json'\n",
            "Dataset URL: https://www.kaggle.com/datasets/kouroshalizadeh/history-of-philosophy\n",
            "License(s): unknown\n",
            "Downloading history-of-philosophy.zip to /content\n",
            "  0% 0.00/55.1M [00:00<?, ?B/s]\n",
            "100% 55.1M/55.1M [00:00<00:00, 1.11GB/s]\n",
            "Archive:  history-of-philosophy.zip\n",
            "  inflating: data/philosophy_data.csv  \n"
          ]
        }
      ]
    },
    {
      "cell_type": "markdown",
      "source": [
        "## Carga el CSV en un DataFrame de pandas"
      ],
      "metadata": {
        "id": "2VtxlAXnSV4z"
      }
    },
    {
      "cell_type": "code",
      "source": [
        "import pandas as pd\n",
        "\n",
        "# Carga el CSV\n",
        "df = pd.read_csv('data/philosophy_data.csv')\n",
        "\n",
        "# Revisa las primeras filas\n",
        "print(df.head())"
      ],
      "metadata": {
        "colab": {
          "base_uri": "https://localhost:8080/"
        },
        "id": "1dF9ViugOOoF",
        "outputId": "272f5e4d-718d-409b-fd3e-45d8a3e7e702"
      },
      "execution_count": 9,
      "outputs": [
        {
          "output_type": "stream",
          "name": "stdout",
          "text": [
            "                    title author school  \\\n",
            "0  Plato - Complete Works  Plato  plato   \n",
            "1  Plato - Complete Works  Plato  plato   \n",
            "2  Plato - Complete Works  Plato  plato   \n",
            "3  Plato - Complete Works  Plato  plato   \n",
            "4  Plato - Complete Works  Plato  plato   \n",
            "\n",
            "                                      sentence_spacy  \\\n",
            "0   What's new, Socrates, to make you leave your ...   \n",
            "1  Surely you are not prosecuting anyone before t...   \n",
            "2  The Athenians do not call this a prosecution b...   \n",
            "3                              What is this you say?   \n",
            "4  Someone must have indicted you, for you are no...   \n",
            "\n",
            "                                        sentence_str  \\\n",
            "0   What's new, Socrates, to make you leave your ...   \n",
            "1  Surely you are not prosecuting anyone before t...   \n",
            "2  The Athenians do not call this a prosecution b...   \n",
            "3                              What is this you say?   \n",
            "4  Someone must have indicted you, for you are no...   \n",
            "\n",
            "   original_publication_date  corpus_edition_date  sentence_length  \\\n",
            "0                       -350                 1997              125   \n",
            "1                       -350                 1997               69   \n",
            "2                       -350                 1997               74   \n",
            "3                       -350                 1997               21   \n",
            "4                       -350                 1997              101   \n",
            "\n",
            "                                    sentence_lowered  \\\n",
            "0   what's new, socrates, to make you leave your ...   \n",
            "1  surely you are not prosecuting anyone before t...   \n",
            "2  the athenians do not call this a prosecution b...   \n",
            "3                              what is this you say?   \n",
            "4  someone must have indicted you, for you are no...   \n",
            "\n",
            "                                       tokenized_txt  \\\n",
            "0  ['what', 'new', 'socrates', 'to', 'make', 'you...   \n",
            "1  ['surely', 'you', 'are', 'not', 'prosecuting',...   \n",
            "2  ['the', 'athenians', 'do', 'not', 'call', 'thi...   \n",
            "3               ['what', 'is', 'this', 'you', 'say']   \n",
            "4  ['someone', 'must', 'have', 'indicted', 'you',...   \n",
            "\n",
            "                                      lemmatized_str  \n",
            "0     what be new , Socrates , to make -PRON- lea...  \n",
            "1   surely -PRON- be not prosecute anyone before ...  \n",
            "2   the Athenians do not call this a prosecution ...  \n",
            "3                          what be this -PRON- say ?  \n",
            "4   someone must have indict -PRON- , for -PRON- ...  \n"
          ]
        }
      ]
    },
    {
      "cell_type": "markdown",
      "source": [
        "## Información general y estadísticas descriptivas"
      ],
      "metadata": {
        "id": "HhvZuSIFScJd"
      }
    },
    {
      "cell_type": "code",
      "source": [
        "print(df.info())\n",
        "\n",
        "# Estadísticas descriptivas de columnas numéricas\n",
        "print(df.describe())"
      ],
      "metadata": {
        "colab": {
          "base_uri": "https://localhost:8080/"
        },
        "id": "v5PjEl4CPHqG",
        "outputId": "e0ba65ac-1f60-49ba-de24-df1442a565bb"
      },
      "execution_count": 10,
      "outputs": [
        {
          "output_type": "stream",
          "name": "stdout",
          "text": [
            "<class 'pandas.core.frame.DataFrame'>\n",
            "RangeIndex: 360808 entries, 0 to 360807\n",
            "Data columns (total 11 columns):\n",
            " #   Column                     Non-Null Count   Dtype \n",
            "---  ------                     --------------   ----- \n",
            " 0   title                      360808 non-null  object\n",
            " 1   author                     360808 non-null  object\n",
            " 2   school                     360808 non-null  object\n",
            " 3   sentence_spacy             360808 non-null  object\n",
            " 4   sentence_str               360808 non-null  object\n",
            " 5   original_publication_date  360808 non-null  int64 \n",
            " 6   corpus_edition_date        360808 non-null  int64 \n",
            " 7   sentence_length            360808 non-null  int64 \n",
            " 8   sentence_lowered           360808 non-null  object\n",
            " 9   tokenized_txt              360808 non-null  object\n",
            " 10  lemmatized_str             360808 non-null  object\n",
            "dtypes: int64(3), object(8)\n",
            "memory usage: 30.3+ MB\n",
            "None\n",
            "       original_publication_date  corpus_edition_date  sentence_length\n",
            "count              360808.000000        360808.000000    360808.000000\n",
            "mean                 1326.800908          1995.155642       150.790964\n",
            "std                   951.492193            23.002287       104.822072\n",
            "min                  -350.000000          1887.000000        20.000000\n",
            "25%                  1641.000000          1991.000000        75.000000\n",
            "50%                  1817.000000          2001.000000       127.000000\n",
            "75%                  1949.000000          2007.000000       199.000000\n",
            "max                  1985.000000          2016.000000      2649.000000\n"
          ]
        }
      ]
    },
    {
      "cell_type": "markdown",
      "source": [
        "# Muestra la lista de columnas y las primeras filas para entender tu estructura"
      ],
      "metadata": {
        "id": "qJPWD-6uSk1j"
      }
    },
    {
      "cell_type": "code",
      "source": [
        "print(df.columns.tolist())\n",
        "print(df.head())\n"
      ],
      "metadata": {
        "colab": {
          "base_uri": "https://localhost:8080/"
        },
        "id": "6vxDpU7NPVWF",
        "outputId": "78f7e144-62a1-4bb8-f443-1f38829ab8bf"
      },
      "execution_count": 12,
      "outputs": [
        {
          "output_type": "stream",
          "name": "stdout",
          "text": [
            "['title', 'author', 'school', 'sentence_spacy', 'sentence_str', 'original_publication_date', 'corpus_edition_date', 'sentence_length', 'sentence_lowered', 'tokenized_txt', 'lemmatized_str']\n",
            "                    title author school  \\\n",
            "0  Plato - Complete Works  Plato  plato   \n",
            "1  Plato - Complete Works  Plato  plato   \n",
            "2  Plato - Complete Works  Plato  plato   \n",
            "3  Plato - Complete Works  Plato  plato   \n",
            "4  Plato - Complete Works  Plato  plato   \n",
            "\n",
            "                                      sentence_spacy  \\\n",
            "0   What's new, Socrates, to make you leave your ...   \n",
            "1  Surely you are not prosecuting anyone before t...   \n",
            "2  The Athenians do not call this a prosecution b...   \n",
            "3                              What is this you say?   \n",
            "4  Someone must have indicted you, for you are no...   \n",
            "\n",
            "                                        sentence_str  \\\n",
            "0   What's new, Socrates, to make you leave your ...   \n",
            "1  Surely you are not prosecuting anyone before t...   \n",
            "2  The Athenians do not call this a prosecution b...   \n",
            "3                              What is this you say?   \n",
            "4  Someone must have indicted you, for you are no...   \n",
            "\n",
            "   original_publication_date  corpus_edition_date  sentence_length  \\\n",
            "0                       -350                 1997              125   \n",
            "1                       -350                 1997               69   \n",
            "2                       -350                 1997               74   \n",
            "3                       -350                 1997               21   \n",
            "4                       -350                 1997              101   \n",
            "\n",
            "                                    sentence_lowered  \\\n",
            "0   what's new, socrates, to make you leave your ...   \n",
            "1  surely you are not prosecuting anyone before t...   \n",
            "2  the athenians do not call this a prosecution b...   \n",
            "3                              what is this you say?   \n",
            "4  someone must have indicted you, for you are no...   \n",
            "\n",
            "                                       tokenized_txt  \\\n",
            "0  ['what', 'new', 'socrates', 'to', 'make', 'you...   \n",
            "1  ['surely', 'you', 'are', 'not', 'prosecuting',...   \n",
            "2  ['the', 'athenians', 'do', 'not', 'call', 'thi...   \n",
            "3               ['what', 'is', 'this', 'you', 'say']   \n",
            "4  ['someone', 'must', 'have', 'indicted', 'you',...   \n",
            "\n",
            "                                      lemmatized_str  \n",
            "0     what be new , Socrates , to make -PRON- lea...  \n",
            "1   surely -PRON- be not prosecute anyone before ...  \n",
            "2   the Athenians do not call this a prosecution ...  \n",
            "3                          what be this -PRON- say ?  \n",
            "4   someone must have indict -PRON- , for -PRON- ...  \n"
          ]
        }
      ]
    },
    {
      "cell_type": "code",
      "source": [
        "import pandas as pd\n",
        "\n",
        "# 1. Como los años BCE no encajan bien en datetime, déjalos como enteros:\n",
        "df['original_publication_date'] = df['original_publication_date'].astype('Int64')\n",
        "\n",
        "# 2. Convierte corpus_edition_date a datetime (solo año):\n",
        "df['corpus_edition_date'] = pd.to_datetime(\n",
        "    df['corpus_edition_date'].astype(str),\n",
        "    format='%Y',\n",
        "    errors='coerce'\n",
        ")"
      ],
      "metadata": {
        "id": "k63HUP-OP4gI"
      },
      "execution_count": 13,
      "outputs": []
    },
    {
      "cell_type": "code",
      "source": [
        "# Verifica:\n",
        "print(df.dtypes[['original_publication_date','corpus_edition_date']])"
      ],
      "metadata": {
        "colab": {
          "base_uri": "https://localhost:8080/"
        },
        "id": "wTevYNdhP7-z",
        "outputId": "3f623e59-de59-4715-ab48-7b6ff889e357"
      },
      "execution_count": 14,
      "outputs": [
        {
          "output_type": "stream",
          "name": "stdout",
          "text": [
            "original_publication_date             Int64\n",
            "corpus_edition_date          datetime64[ns]\n",
            "dtype: object\n"
          ]
        }
      ]
    },
    {
      "cell_type": "markdown",
      "source": [
        "# Valores nulos + Rango de años\n"
      ],
      "metadata": {
        "id": "76mjFPggSzxn"
      }
    },
    {
      "cell_type": "code",
      "source": [
        "print(df[['original_publication_date','corpus_edition_date']].isnull().sum())\n",
        "\n",
        "print(\"Original publication:\", df['original_publication_date'].min(), \"a\", df['original_publication_date'].max())\n",
        "print(\"Corpus edition:     \", df['corpus_edition_date'].dt.year.min(), \"a\", df['corpus_edition_date'].dt.year.max())\n"
      ],
      "metadata": {
        "colab": {
          "base_uri": "https://localhost:8080/"
        },
        "id": "2DObWG-tP_g9",
        "outputId": "8e3a72c2-fbe0-426d-d287-5f8500c14d1e"
      },
      "execution_count": 15,
      "outputs": [
        {
          "output_type": "stream",
          "name": "stdout",
          "text": [
            "original_publication_date    0\n",
            "corpus_edition_date          0\n",
            "dtype: int64\n",
            "Original publication: -350 a 1985\n",
            "Corpus edition:      1887 a 2016\n"
          ]
        }
      ]
    },
    {
      "cell_type": "markdown",
      "source": [
        "# Histograma de sentence_length"
      ],
      "metadata": {
        "id": "MlAx9jf9StOf"
      }
    },
    {
      "cell_type": "code",
      "source": [
        "import seaborn as sns\n",
        "\n",
        "sns.set_theme(style='whitegrid')                # estilo general\n",
        "plt.figure(figsize=(8,5))\n",
        "sns.histplot(\n",
        "    df['sentence_length'],\n",
        "    bins=30,\n",
        "    kde=True,                                   # añade curva de densidad\n",
        "    stat='frequency',                           # frecuencia en eje Y\n",
        "    edgecolor='black',\n",
        "    alpha=0.7\n",
        ")\n",
        "plt.title('Histogram + KDE de longitud de oraciones', fontsize=14, pad=12)\n",
        "plt.xlabel('Longitud de la oración', fontsize=12)\n",
        "plt.ylabel('Frecuencia', fontsize=12)\n",
        "plt.tight_layout()\n",
        "plt.show()\n"
      ],
      "metadata": {
        "colab": {
          "base_uri": "https://localhost:8080/",
          "height": 501
        },
        "id": "5SFWBlv3QF-B",
        "outputId": "a703a522-1331-4953-ab25-520351a1f11a"
      },
      "execution_count": 31,
      "outputs": [
        {
          "output_type": "display_data",
          "data": {
            "text/plain": [
              "<Figure size 800x500 with 1 Axes>"
            ],
            "image/png": "[encoded data removed]"
          },
          "metadata": {}
        }
      ]
    },
    {
      "cell_type": "markdown",
      "source": [
        "## Top autores y escuelas"
      ],
      "metadata": {
        "id": "mng6mi_uQNV8"
      }
    },
    {
      "cell_type": "code",
      "source": [
        "print(df['author'].value_counts().head())\n",
        "print(df['school'].value_counts().head())"
      ],
      "metadata": {
        "colab": {
          "base_uri": "https://localhost:8080/"
        },
        "id": "_NHcbyQ3QKpz",
        "outputId": "165749a6-3518-4365-aff0-55829804103a"
      },
      "execution_count": 17,
      "outputs": [
        {
          "output_type": "stream",
          "name": "stdout",
          "text": [
            "author\n",
            "Aristotle    48779\n",
            "Plato        38366\n",
            "Hegel        22700\n",
            "Foucault     15240\n",
            "Heidegger    15239\n",
            "Name: count, dtype: int64\n",
            "school\n",
            "analytic           55425\n",
            "aristotle          48779\n",
            "german_idealism    42136\n",
            "plato              38366\n",
            "continental        33779\n",
            "Name: count, dtype: int64\n"
          ]
        }
      ]
    },
    {
      "cell_type": "markdown",
      "source": [
        "# Top 5 Authors"
      ],
      "metadata": {
        "id": "LcagzDVcS-d1"
      }
    },
    {
      "cell_type": "code",
      "source": [
        "import matplotlib.pyplot as plt\n",
        "\n",
        "# Aplica un estilo estético\n",
        "plt.style.use('ggplot')\n",
        "\n",
        "# Función auxiliar para anotar cada barra con su valor\n",
        "def annotate_bars(ax, bars):\n",
        "    for bar in bars:\n",
        "        height = bar.get_height()\n",
        "        ax.annotate(\n",
        "            f'{height}',\n",
        "            xy=(bar.get_x() + bar.get_width() / 2, height),\n",
        "            xytext=(0, 4),\n",
        "            textcoords=\"offset points\",\n",
        "            ha='center',\n",
        "            va='bottom',\n",
        "            fontsize=10\n",
        "        )\n"
      ],
      "metadata": {
        "id": "ucP4qge0RTSb"
      },
      "execution_count": 33,
      "outputs": []
    },
    {
      "cell_type": "markdown",
      "source": [
        "# Gráfica Top 5 Autores"
      ],
      "metadata": {
        "id": "Jm0lt1vwUTBU"
      }
    },
    {
      "cell_type": "code",
      "source": [
        "top_authors = df['author'].value_counts().head()\n",
        "fig, ax = plt.subplots(figsize=(8, 5))\n",
        "bars_auth = ax.bar(top_authors.index, top_authors.values, edgecolor='black', linewidth=1.2)\n",
        "annotate_bars(ax, bars_auth)\n",
        "ax.set_title('Top 5 Autores', fontsize=14, pad=12)\n",
        "ax.set_xlabel('Autor', fontsize=12)\n",
        "ax.set_ylabel('Número de oraciones', fontsize=12)\n",
        "plt.xticks(rotation=45, ha='right')\n",
        "plt.tight_layout()\n",
        "plt.show()"
      ],
      "metadata": {
        "colab": {
          "base_uri": "https://localhost:8080/",
          "height": 507
        },
        "id": "CGWlCCNSURjn",
        "outputId": "238af183-7a54-4f98-f621-ebaa0c6d4ab0"
      },
      "execution_count": 34,
      "outputs": [
        {
          "output_type": "display_data",
          "data": {
            "text/plain": [
              "<Figure size 800x500 with 1 Axes>"
            ],
            "image/png": "[encoded data removed]"
          },
          "metadata": {}
        }
      ]
    },
    {
      "cell_type": "markdown",
      "source": [
        "# Gráfica Top 5 Escuelas"
      ],
      "metadata": {
        "id": "aTl7ngpQUXuJ"
      }
    },
    {
      "cell_type": "code",
      "source": [
        "import matplotlib.pyplot as plt\n",
        "\n",
        "# El mismo estilo\n",
        "plt.style.use('ggplot')\n",
        "\n",
        "top_schools = df['school'].value_counts().head()\n",
        "fig, ax = plt.subplots(figsize=(8, 5))\n",
        "bars_sch = ax.bar(top_schools.index, top_schools.values, edgecolor='black', linewidth=1.2)\n",
        "annotate_bars(ax, bars_sch)\n",
        "ax.set_title('Top 5 Escuelas', fontsize=14, pad=12)\n",
        "ax.set_xlabel('Escuela', fontsize=12)\n",
        "ax.set_ylabel('Número de oraciones', fontsize=12)\n",
        "plt.xticks(rotation=45, ha='right')\n",
        "plt.tight_layout()\n",
        "plt.show()\n"
      ],
      "metadata": {
        "colab": {
          "base_uri": "https://localhost:8080/",
          "height": 507
        },
        "id": "8GjPxx8oRX9d",
        "outputId": "f3b8b477-6ecd-4f42-8d90-3170ad0b8b32"
      },
      "execution_count": 21,
      "outputs": [
        {
          "output_type": "display_data",
          "data": {
            "text/plain": [
              "<Figure size 800x500 with 1 Axes>"
            ],
            "image/png": "[encoded data removed]"
          },
          "metadata": {}
        }
      ]
    },
    {
      "cell_type": "markdown",
      "source": [
        " ## DataFrame ordenado"
      ],
      "metadata": {
        "id": "hbfZyiYrVxNq"
      }
    },
    {
      "cell_type": "code",
      "source": [
        "import pandas as pd\n",
        "\n",
        "top_df = (\n",
        "    df['sentence_str']\n",
        "      .value_counts()\n",
        "      .head(100)\n",
        "      .reset_index()\n",
        "      .rename(columns={'index':'quote', 'sentence_str':'count'})\n",
        ")\n",
        "\n",
        "top_df"
      ],
      "metadata": {
        "colab": {
          "base_uri": "https://localhost:8080/",
          "height": 682
        },
        "id": "jJpdTxr6VIZg",
        "outputId": "f8a3773f-3785-46b4-a0ed-b00b270eac58"
      },
      "execution_count": 40,
      "outputs": [
        {
          "output_type": "execute_result",
          "data": {
            "text/plain": [
              "                                                count  count\n",
              "0   This strategy calls into question the validity...      1\n",
              "1    What's new, Socrates, to make you leave your ...      1\n",
              "2   Surely you are not prosecuting anyone before t...      1\n",
              "3   The Athenians do not call this a prosecution b...      1\n",
              "4                               What is this you say?      1\n",
              "..                                                ...    ...\n",
              "95  Well then, what is dear to the gods is pious, ...      1\n",
              "96                               That is what I want.      1\n",
              "97  If that is how you want it, Socrates, that is ...      1\n",
              "98         is pious, and if it is not that it is not.      1\n",
              "99  Tell me then what this form itself is, so that...      1\n",
              "\n",
              "[100 rows x 2 columns]"
            ],
            "text/html": [
              "\n",
              "  <div id=\"df-66541aac-f2f0-419b-bfa3-815427809075\" class=\"colab-df-container\">\n",
              "    <div>\n",
              "<style scoped>\n",
              "    .dataframe tbody tr th:only-of-type {\n",
              "        vertical-align: middle;\n",
              "    }\n",
              "\n",
              "    .dataframe tbody tr th {\n",
              "        vertical-align: top;\n",
              "    }\n",
              "\n",
              "    .dataframe thead th {\n",
              "        text-align: right;\n",
              "    }\n",
              "</style>\n",
              "<table border=\"1\" class=\"dataframe\">\n",
              "  <thead>\n",
              "    <tr style=\"text-align: right;\">\n",
              "      <th></th>\n",
              "      <th>count</th>\n",
              "      <th>count</th>\n",
              "    </tr>\n",
              "  </thead>\n",
              "  <tbody>\n",
              "    <tr>\n",
              "      <th>0</th>\n",
              "      <td>This strategy calls into question the validity...</td>\n",
              "      <td>1</td>\n",
              "    </tr>\n",
              "    <tr>\n",
              "      <th>1</th>\n",
              "      <td>What's new, Socrates, to make you leave your ...</td>\n",
              "      <td>1</td>\n",
              "    </tr>\n",
              "    <tr>\n",
              "      <th>2</th>\n",
              "      <td>Surely you are not prosecuting anyone before t...</td>\n",
              "      <td>1</td>\n",
              "    </tr>\n",
              "    <tr>\n",
              "      <th>3</th>\n",
              "      <td>The Athenians do not call this a prosecution b...</td>\n",
              "      <td>1</td>\n",
              "    </tr>\n",
              "    <tr>\n",
              "      <th>4</th>\n",
              "      <td>What is this you say?</td>\n",
              "      <td>1</td>\n",
              "    </tr>\n",
              "    <tr>\n",
              "      <th>...</th>\n",
              "      <td>...</td>\n",
              "      <td>...</td>\n",
              "    </tr>\n",
              "    <tr>\n",
              "      <th>95</th>\n",
              "      <td>Well then, what is dear to the gods is pious, ...</td>\n",
              "      <td>1</td>\n",
              "    </tr>\n",
              "    <tr>\n",
              "      <th>96</th>\n",
              "      <td>That is what I want.</td>\n",
              "      <td>1</td>\n",
              "    </tr>\n",
              "    <tr>\n",
              "      <th>97</th>\n",
              "      <td>If that is how you want it, Socrates, that is ...</td>\n",
              "      <td>1</td>\n",
              "    </tr>\n",
              "    <tr>\n",
              "      <th>98</th>\n",
              "      <td>is pious, and if it is not that it is not.</td>\n",
              "      <td>1</td>\n",
              "    </tr>\n",
              "    <tr>\n",
              "      <th>99</th>\n",
              "      <td>Tell me then what this form itself is, so that...</td>\n",
              "      <td>1</td>\n",
              "    </tr>\n",
              "  </tbody>\n",
              "</table>\n",
              "<p>100 rows × 2 columns</p>\n",
              "</div>\n",
              "    <div class=\"colab-df-buttons\">\n",
              "\n",
              "  <div class=\"colab-df-container\">\n",
              "    <button class=\"colab-df-convert\" onclick=\"convertToInteractive('df-66541aac-f2f0-419b-bfa3-815427809075')\"\n",
              "            title=\"Convert this dataframe to an interactive table.\"\n",
              "            style=\"display:none;\">\n",
              "\n",
              "  <svg xmlns=\"http://www.w3.org/2000/svg\" height=\"24px\" viewBox=\"0 -960 960 960\">\n",
              "    <path d=\"M120-120v-720h720v720H120Zm60-500h600v-160H180v160Zm220 220h160v-160H400v160Zm0 220h160v-160H400v160ZM180-400h160v-160H180v160Zm440 0h160v-160H620v160ZM180-180h160v-160H180v160Zm440 0h160v-160H620v160Z\"/>\n",
              "  </svg>\n",
              "    </button>\n",
              "\n",
              "  <style>\n",
              "    .colab-df-container {\n",
              "      display:flex;\n",
              "      gap: 12px;\n",
              "    }\n",
              "\n",
              "    .colab-df-convert {\n",
              "      background-color: #E8F0FE;\n",
              "      border: none;\n",
              "      border-radius: 50%;\n",
              "      cursor: pointer;\n",
              "      display: none;\n",
              "      fill: #1967D2;\n",
              "      height: 32px;\n",
              "      padding: 0 0 0 0;\n",
              "      width: 32px;\n",
              "    }\n",
              "\n",
              "    .colab-df-convert:hover {\n",
              "      background-color: #E2EBFA;\n",
              "      box-shadow: 0px 1px 2px rgba(60, 64, 67, 0.3), 0px 1px 3px 1px rgba(60, 64, 67, 0.15);\n",
              "      fill: #174EA6;\n",
              "    }\n",
              "\n",
              "    .colab-df-buttons div {\n",
              "      margin-bottom: 4px;\n",
              "    }\n",
              "\n",
              "    [theme=dark] .colab-df-convert {\n",
              "      background-color: #3B4455;\n",
              "      fill: #D2E3FC;\n",
              "    }\n",
              "\n",
              "    [theme=dark] .colab-df-convert:hover {\n",
              "      background-color: #434B5C;\n",
              "      box-shadow: 0px 1px 3px 1px rgba(0, 0, 0, 0.15);\n",
              "      filter: drop-shadow(0px 1px 2px rgba(0, 0, 0, 0.3));\n",
              "      fill: #FFFFFF;\n",
              "    }\n",
              "  </style>\n",
              "\n",
              "    <script>\n",
              "      const buttonEl =\n",
              "        document.querySelector('#df-66541aac-f2f0-419b-bfa3-815427809075 button.colab-df-convert');\n",
              "      buttonEl.style.display =\n",
              "        google.colab.kernel.accessAllowed ? 'block' : 'none';\n",
              "\n",
              "      async function convertToInteractive(key) {\n",
              "        const element = document.querySelector('#df-66541aac-f2f0-419b-bfa3-815427809075');\n",
              "        const dataTable =\n",
              "          await google.colab.kernel.invokeFunction('convertToInteractive',\n",
              "                                                    [key], {});\n",
              "        if (!dataTable) return;\n",
              "\n",
              "        const docLinkHtml = 'Like what you see? Visit the ' +\n",
              "          '<a target=\"_blank\" href=https://colab.research.google.com/notebooks/data_table.ipynb>data table notebook</a>'\n",
              "          + ' to learn more about interactive tables.';\n",
              "        element.innerHTML = '';\n",
              "        dataTable['output_type'] = 'display_data';\n",
              "        await google.colab.output.renderOutput(dataTable, element);\n",
              "        const docLink = document.createElement('div');\n",
              "        docLink.innerHTML = docLinkHtml;\n",
              "        element.appendChild(docLink);\n",
              "      }\n",
              "    </script>\n",
              "  </div>\n",
              "\n",
              "\n",
              "    <div id=\"df-65f769aa-6e54-46df-9936-252e822cacdb\">\n",
              "      <button class=\"colab-df-quickchart\" onclick=\"quickchart('df-65f769aa-6e54-46df-9936-252e822cacdb')\"\n",
              "                title=\"Suggest charts\"\n",
              "                style=\"display:none;\">\n",
              "\n",
              "<svg xmlns=\"http://www.w3.org/2000/svg\" height=\"24px\"viewBox=\"0 0 24 24\"\n",
              "     width=\"24px\">\n",
              "    <g>\n",
              "        <path d=\"M19 3H5c-1.1 0-2 .9-2 2v14c0 1.1.9 2 2 2h14c1.1 0 2-.9 2-2V5c0-1.1-.9-2-2-2zM9 17H7v-7h2v7zm4 0h-2V7h2v10zm4 0h-2v-4h2v4z\"/>\n",
              "    </g>\n",
              "</svg>\n",
              "      </button>\n",
              "\n",
              "<style>\n",
              "  .colab-df-quickchart {\n",
              "      --bg-color: #E8F0FE;\n",
              "      --fill-color: #1967D2;\n",
              "      --hover-bg-color: #E2EBFA;\n",
              "      --hover-fill-color: #174EA6;\n",
              "      --disabled-fill-color: #AAA;\n",
              "      --disabled-bg-color: #DDD;\n",
              "  }\n",
              "\n",
              "  [theme=dark] .colab-df-quickchart {\n",
              "      --bg-color: #3B4455;\n",
              "      --fill-color: #D2E3FC;\n",
              "      --hover-bg-color: #434B5C;\n",
              "      --hover-fill-color: #FFFFFF;\n",
              "      --disabled-bg-color: #3B4455;\n",
              "      --disabled-fill-color: #666;\n",
              "  }\n",
              "\n",
              "  .colab-df-quickchart {\n",
              "    background-color: var(--bg-color);\n",
              "    border: none;\n",
              "    border-radius: 50%;\n",
              "    cursor: pointer;\n",
              "    display: none;\n",
              "    fill: var(--fill-color);\n",
              "    height: 32px;\n",
              "    padding: 0;\n",
              "    width: 32px;\n",
              "  }\n",
              "\n",
              "  .colab-df-quickchart:hover {\n",
              "    background-color: var(--hover-bg-color);\n",
              "    box-shadow: 0 1px 2px rgba(60, 64, 67, 0.3), 0 1px 3px 1px rgba(60, 64, 67, 0.15);\n",
              "    fill: var(--button-hover-fill-color);\n",
              "  }\n",
              "\n",
              "  .colab-df-quickchart-complete:disabled,\n",
              "  .colab-df-quickchart-complete:disabled:hover {\n",
              "    background-color: var(--disabled-bg-color);\n",
              "    fill: var(--disabled-fill-color);\n",
              "    box-shadow: none;\n",
              "  }\n",
              "\n",
              "  .colab-df-spinner {\n",
              "    border: 2px solid var(--fill-color);\n",
              "    border-color: transparent;\n",
              "    border-bottom-color: var(--fill-color);\n",
              "    animation:\n",
              "      spin 1s steps(1) infinite;\n",
              "  }\n",
              "\n",
              "  @keyframes spin {\n",
              "    0% {\n",
              "      border-color: transparent;\n",
              "      border-bottom-color: var(--fill-color);\n",
              "      border-left-color: var(--fill-color);\n",
              "    }\n",
              "    20% {\n",
              "      border-color: transparent;\n",
              "      border-left-color: var(--fill-color);\n",
              "      border-top-color: var(--fill-color);\n",
              "    }\n",
              "    30% {\n",
              "      border-color: transparent;\n",
              "      border-left-color: var(--fill-color);\n",
              "      border-top-color: var(--fill-color);\n",
              "      border-right-color: var(--fill-color);\n",
              "    }\n",
              "    40% {\n",
              "      border-color: transparent;\n",
              "      border-right-color: var(--fill-color);\n",
              "      border-top-color: var(--fill-color);\n",
              "    }\n",
              "    60% {\n",
              "      border-color: transparent;\n",
              "      border-right-color: var(--fill-color);\n",
              "    }\n",
              "    80% {\n",
              "      border-color: transparent;\n",
              "      border-right-color: var(--fill-color);\n",
              "      border-bottom-color: var(--fill-color);\n",
              "    }\n",
              "    90% {\n",
              "      border-color: transparent;\n",
              "      border-bottom-color: var(--fill-color);\n",
              "    }\n",
              "  }\n",
              "</style>\n",
              "\n",
              "      <script>\n",
              "        async function quickchart(key) {\n",
              "          const quickchartButtonEl =\n",
              "            document.querySelector('#' + key + ' button');\n",
              "          quickchartButtonEl.disabled = true;  // To prevent multiple clicks.\n",
              "          quickchartButtonEl.classList.add('colab-df-spinner');\n",
              "          try {\n",
              "            const charts = await google.colab.kernel.invokeFunction(\n",
              "                'suggestCharts', [key], {});\n",
              "          } catch (error) {\n",
              "            console.error('Error during call to suggestCharts:', error);\n",
              "          }\n",
              "          quickchartButtonEl.classList.remove('colab-df-spinner');\n",
              "          quickchartButtonEl.classList.add('colab-df-quickchart-complete');\n",
              "        }\n",
              "        (() => {\n",
              "          let quickchartButtonEl =\n",
              "            document.querySelector('#df-65f769aa-6e54-46df-9936-252e822cacdb button');\n",
              "          quickchartButtonEl.style.display =\n",
              "            google.colab.kernel.accessAllowed ? 'block' : 'none';\n",
              "        })();\n",
              "      </script>\n",
              "    </div>\n",
              "\n",
              "  <div id=\"id_c9f18a64-581b-419e-b265-12091fe67851\">\n",
              "    <style>\n",
              "      .colab-df-generate {\n",
              "        background-color: #E8F0FE;\n",
              "        border: none;\n",
              "        border-radius: 50%;\n",
              "        cursor: pointer;\n",
              "        display: none;\n",
              "        fill: #1967D2;\n",
              "        height: 32px;\n",
              "        padding: 0 0 0 0;\n",
              "        width: 32px;\n",
              "      }\n",
              "\n",
              "      .colab-df-generate:hover {\n",
              "        background-color: #E2EBFA;\n",
              "        box-shadow: 0px 1px 2px rgba(60, 64, 67, 0.3), 0px 1px 3px 1px rgba(60, 64, 67, 0.15);\n",
              "        fill: #174EA6;\n",
              "      }\n",
              "\n",
              "      [theme=dark] .colab-df-generate {\n",
              "        background-color: #3B4455;\n",
              "        fill: #D2E3FC;\n",
              "      }\n",
              "\n",
              "      [theme=dark] .colab-df-generate:hover {\n",
              "        background-color: #434B5C;\n",
              "        box-shadow: 0px 1px 3px 1px rgba(0, 0, 0, 0.15);\n",
              "        filter: drop-shadow(0px 1px 2px rgba(0, 0, 0, 0.3));\n",
              "        fill: #FFFFFF;\n",
              "      }\n",
              "    </style>\n",
              "    <button class=\"colab-df-generate\" onclick=\"generateWithVariable('top_df')\"\n",
              "            title=\"Generate code using this dataframe.\"\n",
              "            style=\"display:none;\">\n",
              "\n",
              "  <svg xmlns=\"http://www.w3.org/2000/svg\" height=\"24px\"viewBox=\"0 0 24 24\"\n",
              "       width=\"24px\">\n",
              "    <path d=\"M7,19H8.4L18.45,9,17,7.55,7,17.6ZM5,21V16.75L18.45,3.32a2,2,0,0,1,2.83,0l1.4,1.43a1.91,1.91,0,0,1,.58,1.4,1.91,1.91,0,0,1-.58,1.4L9.25,21ZM18.45,9,17,7.55Zm-12,3A5.31,5.31,0,0,0,4.9,8.1,5.31,5.31,0,0,0,1,6.5,5.31,5.31,0,0,0,4.9,4.9,5.31,5.31,0,0,0,6.5,1,5.31,5.31,0,0,0,8.1,4.9,5.31,5.31,0,0,0,12,6.5,5.46,5.46,0,0,0,6.5,12Z\"/>\n",
              "  </svg>\n",
              "    </button>\n",
              "    <script>\n",
              "      (() => {\n",
              "      const buttonEl =\n",
              "        document.querySelector('#id_c9f18a64-581b-419e-b265-12091fe67851 button.colab-df-generate');\n",
              "      buttonEl.style.display =\n",
              "        google.colab.kernel.accessAllowed ? 'block' : 'none';\n",
              "\n",
              "      buttonEl.onclick = () => {\n",
              "        google.colab.notebook.generateWithVariable('top_df');\n",
              "      }\n",
              "      })();\n",
              "    </script>\n",
              "  </div>\n",
              "\n",
              "    </div>\n",
              "  </div>\n"
            ],
            "application/vnd.google.colaboratory.intrinsic+json": {
              "type": "dataframe",
              "variable_name": "top_df",
              "summary": "{\n  \"name\": \"top_df\",\n  \"rows\": 100,\n  \"fields\": [\n    {\n      \"column\": \"count\",\n      \"properties\": {\n        \"dtype\": \"string\",\n        \"num_unique_values\": 100,\n        \"samples\": [\n          \"Indeed, Euthyphro, this is the reason why I am a defendant in the case, because I find it hard to accept things like that being said about the gods, and it is likely to be the reason why I shall be told I do wrong.\",\n          \"Certainly, Euthyphro, most men would not know how they could do this and be right.\",\n          \"Whereas, by Zeus, Euthyphro, you think that your knowledge of the divine, and of piety and impiety, is so accurate that, when those things happened as you say, you have no fear of having acted impiously in bringing your father to trial?\"\n        ],\n        \"semantic_type\": \"\",\n        \"description\": \"\"\n      }\n    },\n    {\n      \"column\": \"count\",\n      \"properties\": {\n        \"dtype\": \"number\",\n        \"std\": 0,\n        \"min\": 1,\n        \"max\": 1,\n        \"num_unique_values\": 1,\n        \"samples\": [\n          1\n        ],\n        \"semantic_type\": \"\",\n        \"description\": \"\"\n      }\n    }\n  ]\n}"
            }
          },
          "metadata": {},
          "execution_count": 40
        }
      ]
    }
  ]
}